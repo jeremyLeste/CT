{
 "cells": [
  {
   "cell_type": "code",
   "execution_count": null,
   "metadata": {},
   "outputs": [],
   "source": [
    "import dicom\n",
    "import os\n",
    "import SimpleITK as sitk\n",
    "import numpy as np\n",
    "import array\n",
    "\n",
    "import matplotlib.pyplot as plt\n",
    "%matplotlib inline\n",
    "\n",
    "from ipywidgets import interact"
   ]
  },
  {
   "cell_type": "code",
   "execution_count": null,
   "metadata": {},
   "outputs": [],
   "source": [
    "# fuction for ct visualization\n",
    "def ct_viewer(im):\n",
    "    def plot_image(myslice):\n",
    "        plt.imshow(im[myslice], cmap=plt.cm.gray)\n",
    "    interact(plot_image, myslice=(0, im.shape[0]))\n",
    "    return; \n",
    "def ct_crop(pix, x1crop, x2cropt, y1crop, y2cropt):\n",
    "    print 'ORIGINAL : '\n",
    "    ct_viewer(pix)\n",
    "    x2crop=x2cropt-pix.shape[2]\n",
    "    y2crop=y2cropt-pix.shape[1]\n",
    "    pix_crop=pixel_array[:, y1crop:y2crop, x1crop:x2crop]\n",
    "    print 'CROPPED :'\n",
    "    ct_viewer(pix_crop)\n",
    "    return pix_crop;"
   ]
  },
  {
   "cell_type": "code",
   "execution_count": null,
   "metadata": {},
   "outputs": [],
   "source": [
    "#read dcm directory and compte ONE sitk 3D image object\n",
    "reader=sitk.ImageSeriesReader()\n",
    "dicom_name=reader.GetGDCMSeriesFileNames('test/ct')\n",
    "reader.SetFileNames(dicom_name)\n",
    "ct_image = reader.Execute()\n"
   ]
  },
  {
   "cell_type": "code",
   "execution_count": null,
   "metadata": {},
   "outputs": [],
   "source": [
    "print 'Origin', ct_image.GetOrigin()\n",
    "print 'Dimesions : ' , ct_image.GetSize()\n",
    "print 'Pixels Size :' , ct_image.GetSpacing()"
   ]
  },
  {
   "cell_type": "code",
   "execution_count": null,
   "metadata": {},
   "outputs": [],
   "source": [
    "pixel_array=sitk.GetArrayFromImage(ct_image)   #Get numpy n-d array from sitk object\n",
    "#image=sitk.GetImageFromAray(numpy_nd_array)  #Create a stikimage object from a numpy nd-array\n",
    "ct_viewer(pixel_array)"
   ]
  },
  {
   "cell_type": "code",
   "execution_count": null,
   "metadata": {},
   "outputs": [],
   "source": [
    "# Write the sitk image to mhd file ( = conversion dicom <-> raw)\n",
    "sitk.WriteImage(ct_image,'iamge.mhd')"
   ]
  }
 ],
 "metadata": {
  "kernelspec": {
   "display_name": "Python 2",
   "language": "python",
   "name": "python2"
  },
  "language_info": {
   "codemirror_mode": {
    "name": "ipython",
    "version": 2
   },
   "file_extension": ".py",
   "mimetype": "text/x-python",
   "name": "python",
   "nbconvert_exporter": "python",
   "pygments_lexer": "ipython2",
   "version": "2.7.12"
  }
 },
 "nbformat": 4,
 "nbformat_minor": 2
}
