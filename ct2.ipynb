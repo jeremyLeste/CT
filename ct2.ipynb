{
 "cells": [
  {
   "cell_type": "code",
   "execution_count": 11,
   "metadata": {},
   "outputs": [],
   "source": [
    "import dicom\n",
    "import os\n",
    "import SimpleITK as sitk\n",
    "import numpy as np\n",
    "import array\n",
    "\n",
    "import matplotlib.pyplot as plt\n",
    "%matplotlib inline\n",
    "\n",
    "from ipywidgets import interact"
   ]
  },
  {
   "cell_type": "code",
   "execution_count": 12,
   "metadata": {},
   "outputs": [],
   "source": [
    "rp=dicom.read_file('ZORDAN/dicom/RP.201611829.PAROIG sansB.dcm')"
   ]
  },
  {
   "cell_type": "code",
   "execution_count": 13,
   "metadata": {},
   "outputs": [
    {
     "name": "stdout",
     "output_type": "stream",
     "text": [
      "ZORDAN\n"
     ]
    }
   ],
   "source": [
    "iso=[]\n",
    "for val in rp.BeamSequence[0].ControlPointSequence[0].IsocenterPosition: iso.append(float(val))\n",
    "study=str(rp.PatientName.split('^')[0])\n",
    "print study\n",
    "#print iso\n"
   ]
  },
  {
   "cell_type": "code",
   "execution_count": 14,
   "metadata": {},
   "outputs": [],
   "source": [
    "def ct_viewer(im):\n",
    "    def plot_image(myslice):\n",
    "        plt.imshow(im[myslice], cmap=plt.cm.gray)\n",
    "    interact(plot_image, myslice=(0, im.shape[0]))\n",
    "    return; \n",
    "def ct_crop(pix, x1crop, x2cropt, y1crop, y2cropt):\n",
    "    print 'ORIGINAL : '\n",
    "    ct_viewer(pix)\n",
    "    x2crop=x2cropt-pix.shape[2]\n",
    "    y2crop=y2cropt-pix.shape[1]\n",
    "    pix_crop=pixel_array[:, y1crop:y2crop, x1crop:x2crop]\n",
    "    print 'CROPPED :'\n",
    "    ct_viewer(pix_crop)\n",
    "    return pix_crop;"
   ]
  },
  {
   "cell_type": "code",
   "execution_count": 15,
   "metadata": {},
   "outputs": [
    {
     "name": "stdout",
     "output_type": "stream",
     "text": [
      "(-325.0, -325.0, -57.5)\n",
      "Dimesions :  (512, 512, 128)\n",
      "Pixels Size : (1.269531, 1.269531, 2.5)\n"
     ]
    },
    {
     "data": {
      "application/vnd.jupyter.widget-view+json": {
       "model_id": "b175eed656b9451d90c6c0185b6f144c",
       "version_major": 2,
       "version_minor": 0
      },
      "text/html": [
       "<p>Failed to display Jupyter Widget of type <code>interactive</code>.</p>\n",
       "<p>\n",
       "  If you're reading this message in Jupyter Notebook or JupyterLab, it may mean\n",
       "  that the widgets JavaScript is still loading. If this message persists, it\n",
       "  likely means that the widgets JavaScript library is either not installed or\n",
       "  not enabled. See the <a href=\"https://ipywidgets.readthedocs.io/en/stable/user_install.html\">Jupyter\n",
       "  Widgets Documentation</a> for setup instructions.\n",
       "</p>\n",
       "<p>\n",
       "  If you're reading this message in another notebook frontend (for example, a static\n",
       "  rendering on GitHub or <a href=\"https://nbviewer.jupyter.org/\">NBViewer</a>),\n",
       "  it may mean that your frontend doesn't currently support widgets.\n",
       "</p>\n"
      ],
      "text/plain": [
       "interactive(children=(IntSlider(value=64, description=u'myslice', max=128), Output()), _dom_classes=('widget-interact',))"
      ]
     },
     "metadata": {},
     "output_type": "display_data"
    }
   ],
   "source": [
    "#read dcm directory and compte ONE sitk 3D image object\n",
    "reader=sitk.ImageSeriesReader()\n",
    "#dicom_name=reader.GetGDCMSeriesFileNames('scanX/')\n",
    "dicom_name=reader.GetGDCMSeriesFileNames(study +'/dicom/ct')\n",
    "reader.SetFileNames(dicom_name)\n",
    "ct_image = reader.Execute()\n",
    "\n",
    "print ct_image.GetOrigin()\n",
    "dicom_ct_dimension=ct_image.GetSize()\n",
    "dicom_ct_pixel_size=ct_image.GetSpacing()\n",
    "print'Dimesions : ' , dicom_ct_dimension\n",
    "print'Pixels Size :' , dicom_ct_pixel_size\n",
    "\n",
    "pixel_array=sitk.GetArrayFromImage(ct_image)   #Get numpy n-d array from sitk object to plot it                          \n",
    "ct_viewer(pixel_array)"
   ]
  },
  {
   "cell_type": "code",
   "execution_count": 16,
   "metadata": {},
   "outputs": [],
   "source": [
    "# write raw original ct\n",
    "#pixel_array=pixel_array[::-1,::,:]\n",
    "sitk.WriteImage(ct_image, study+'/images/'+study+'_original.mhd')"
   ]
  },
  {
   "cell_type": "code",
   "execution_count": 19,
   "metadata": {},
   "outputs": [
    {
     "name": "stdout",
     "output_type": "stream",
     "text": [
      "ORIGINAL : \n"
     ]
    },
    {
     "data": {
      "application/vnd.jupyter.widget-view+json": {
       "model_id": "2efae1d1630243cebc7a10b420c95a92",
       "version_major": 2,
       "version_minor": 0
      },
      "text/html": [
       "<p>Failed to display Jupyter Widget of type <code>interactive</code>.</p>\n",
       "<p>\n",
       "  If you're reading this message in Jupyter Notebook or JupyterLab, it may mean\n",
       "  that the widgets JavaScript is still loading. If this message persists, it\n",
       "  likely means that the widgets JavaScript library is either not installed or\n",
       "  not enabled. See the <a href=\"https://ipywidgets.readthedocs.io/en/stable/user_install.html\">Jupyter\n",
       "  Widgets Documentation</a> for setup instructions.\n",
       "</p>\n",
       "<p>\n",
       "  If you're reading this message in another notebook frontend (for example, a static\n",
       "  rendering on GitHub or <a href=\"https://nbviewer.jupyter.org/\">NBViewer</a>),\n",
       "  it may mean that your frontend doesn't currently support widgets.\n",
       "</p>\n"
      ],
      "text/plain": [
       "interactive(children=(IntSlider(value=64, description=u'myslice', max=128), Output()), _dom_classes=('widget-interact',))"
      ]
     },
     "metadata": {},
     "output_type": "display_data"
    },
    {
     "name": "stdout",
     "output_type": "stream",
     "text": [
      "CROPPED :\n"
     ]
    },
    {
     "data": {
      "application/vnd.jupyter.widget-view+json": {
       "model_id": "7d3bfc2ba0b347c7af34d9adfee166f5",
       "version_major": 2,
       "version_minor": 0
      },
      "text/html": [
       "<p>Failed to display Jupyter Widget of type <code>interactive</code>.</p>\n",
       "<p>\n",
       "  If you're reading this message in Jupyter Notebook or JupyterLab, it may mean\n",
       "  that the widgets JavaScript is still loading. If this message persists, it\n",
       "  likely means that the widgets JavaScript library is either not installed or\n",
       "  not enabled. See the <a href=\"https://ipywidgets.readthedocs.io/en/stable/user_install.html\">Jupyter\n",
       "  Widgets Documentation</a> for setup instructions.\n",
       "</p>\n",
       "<p>\n",
       "  If you're reading this message in another notebook frontend (for example, a static\n",
       "  rendering on GitHub or <a href=\"https://nbviewer.jupyter.org/\">NBViewer</a>),\n",
       "  it may mean that your frontend doesn't currently support widgets.\n",
       "</p>\n"
      ],
      "text/plain": [
       "interactive(children=(IntSlider(value=64, description=u'myslice', max=128), Output()), _dom_classes=('widget-interact',))"
      ]
     },
     "metadata": {},
     "output_type": "display_data"
    }
   ],
   "source": [
    "#select apropriates value to crop scan \n",
    "#use sliders to view all the slice and refer to original ct\n",
    "x1=100  #   X axis lower value (on original ct)\n",
    "x2=350  #   X axis upper value (on original ct)\n",
    "y1=150 #   Y axis lower value (on original ct)\n",
    "y2=370  #   Y axis upper value (on original ct)\n",
    "pixel_array_crop=ct_crop(pixel_array, x1, x2, y1, y2);"
   ]
  },
  {
   "cell_type": "code",
   "execution_count": 20,
   "metadata": {},
   "outputs": [
    {
     "name": "stdout",
     "output_type": "stream",
     "text": [
      "(128, 220, 250)\n",
      "(128, 220, 250)\n"
     ]
    },
    {
     "data": {
      "application/vnd.jupyter.widget-view+json": {
       "model_id": "ae84e704d7994daca88c141849153c57",
       "version_major": 2,
       "version_minor": 0
      },
      "text/html": [
       "<p>Failed to display Jupyter Widget of type <code>interactive</code>.</p>\n",
       "<p>\n",
       "  If you're reading this message in Jupyter Notebook or JupyterLab, it may mean\n",
       "  that the widgets JavaScript is still loading. If this message persists, it\n",
       "  likely means that the widgets JavaScript library is either not installed or\n",
       "  not enabled. See the <a href=\"https://ipywidgets.readthedocs.io/en/stable/user_install.html\">Jupyter\n",
       "  Widgets Documentation</a> for setup instructions.\n",
       "</p>\n",
       "<p>\n",
       "  If you're reading this message in another notebook frontend (for example, a static\n",
       "  rendering on GitHub or <a href=\"https://nbviewer.jupyter.org/\">NBViewer</a>),\n",
       "  it may mean that your frontend doesn't currently support widgets.\n",
       "</p>\n"
      ],
      "text/plain": [
       "interactive(children=(IntSlider(value=64, description=u'myslice', max=128), Output()), _dom_classes=('widget-interact',))"
      ]
     },
     "metadata": {},
     "output_type": "display_data"
    },
    {
     "name": "stdout",
     "output_type": "stream",
     "text": [
      "(250, 220, 128)\n"
     ]
    }
   ],
   "source": [
    "print pixel_array_crop.shape\n",
    "#pixel_array_crop=pixel_array_crop[::-1,::,:]\n",
    "print pixel_array_crop.shape\n",
    "\n",
    "ct_viewer(pixel_array_crop)\n",
    "\n",
    "\n",
    "ct_crop=sitk.GetImageFromArray(pixel_array_crop)\n",
    "print ct_crop.GetSize()\n",
    "\n",
    "crop_val=[x1, y1, 0]\n",
    "new_origin=[]\n",
    "\n",
    "for val1, cropval, space in zip(ct_image.GetOrigin(),crop_val , ct_image.GetSpacing()):\n",
    "    new_origin.append(val1+(cropval*space))\n",
    "\n",
    "ct_crop.SetOrigin(new_origin)\n",
    "ct_crop.SetSpacing(ct_image.GetSpacing())\n",
    "\n",
    "\n",
    "sitk.WriteImage(ct_crop, study+'/images/'+study+'.mhd')"
   ]
  }
 ],
 "metadata": {
  "kernelspec": {
   "display_name": "Python 2",
   "language": "python",
   "name": "python2"
  },
  "language_info": {
   "codemirror_mode": {
    "name": "ipython",
    "version": 2
   },
   "file_extension": ".py",
   "mimetype": "text/x-python",
   "name": "python",
   "nbconvert_exporter": "python",
   "pygments_lexer": "ipython2",
   "version": "2.7.12"
  }
 },
 "nbformat": 4,
 "nbformat_minor": 2
}
