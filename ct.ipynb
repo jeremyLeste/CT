{
 "cells": [
  {
   "cell_type": "code",
   "execution_count": 1,
   "metadata": {},
   "outputs": [],
   "source": [
    "import dicom\n",
    "import os\n",
    "import array\n",
    "\n",
    "import matplotlib.pyplot as plt\n",
    "\n",
    "import numpy as np\n",
    "import SimpleITK as sitk\n",
    "from ipywidgets import interact\n",
    "%matplotlib inline\n",
    "\n"
   ]
  },
  {
   "cell_type": "code",
   "execution_count": 3,
   "metadata": {},
   "outputs": [],
   "source": [
    "rp=dicom.read_file('/media/sf_CRCT/JupyterNotebook/data/CT/clinic/calmip_test/dicom/RP.201610113.AILEDENEZDTE1.dcm')"
   ]
  },
  {
   "cell_type": "code",
   "execution_count": 5,
   "metadata": {},
   "outputs": [
    {
     "name": "stdout",
     "output_type": "stream",
     "text": [
      "BAKER\n",
      "[-24.928512979423, -97.707406046065, -60.969761688316]\n"
     ]
    }
   ],
   "source": [
    "iso=[]\n",
    "for val in rp.BeamSequence[0].ControlPointSequence[0].IsocenterPosition: iso.append(float(val))\n",
    "study=str(rp.PatientName.split('^')[0])\n",
    "print study\n",
    "print iso\n"
   ]
  },
  {
   "cell_type": "code",
   "execution_count": 6,
   "metadata": {},
   "outputs": [],
   "source": [
    "def ct_viewer(im):\n",
    "    def plot_image(myslice):\n",
    "        plt.imshow(im[myslice], cmap=plt.cm.gray)\n",
    "    interact(plot_image, myslice=(0, im.shape[0]))\n",
    "    return; \n",
    "def ct_crop(pix, x1crop, x2cropt, y1crop, y2cropt):\n",
    "    print 'ORIGINAL : '\n",
    "    ct_viewer(pix)\n",
    "    x2crop=x2cropt-pix.shape[2]\n",
    "    y2crop=y2cropt-pix.shape[1]\n",
    "    pix_crop=pixel_array[:, y1crop:y2crop, x1crop:x2crop]\n",
    "    print 'CROPPED :'\n",
    "    ct_viewer(pix_crop)\n",
    "    return pix_crop;"
   ]
  },
  {
   "cell_type": "code",
   "execution_count": 8,
   "metadata": {},
   "outputs": [
    {
     "name": "stdout",
     "output_type": "stream",
     "text": [
      "(-250.0, -250.0, -188.75)\n",
      "(1.0, 0.0, 0.0, 0.0, 1.0, 0.0, 0.0, 0.0, 1.0)\n",
      "Dimesions :  (512, 512, 202)\n",
      "Pixels Size : (0.976562, 0.976562, 1.25)\n"
     ]
    },
    {
     "data": {
      "application/vnd.jupyter.widget-view+json": {
       "model_id": "c39635f4f64448bd9eaf29ea39a8824a",
       "version_major": 2,
       "version_minor": 0
      },
      "text/html": [
       "<p>Failed to display Jupyter Widget of type <code>interactive</code>.</p>\n",
       "<p>\n",
       "  If you're reading this message in Jupyter Notebook or JupyterLab, it may mean\n",
       "  that the widgets JavaScript is still loading. If this message persists, it\n",
       "  likely means that the widgets JavaScript library is either not installed or\n",
       "  not enabled. See the <a href=\"https://ipywidgets.readthedocs.io/en/stable/user_install.html\">Jupyter\n",
       "  Widgets Documentation</a> for setup instructions.\n",
       "</p>\n",
       "<p>\n",
       "  If you're reading this message in another notebook frontend (for example, a static\n",
       "  rendering on GitHub or <a href=\"https://nbviewer.jupyter.org/\">NBViewer</a>),\n",
       "  it may mean that your frontend doesn't currently support widgets.\n",
       "</p>\n"
      ],
      "text/plain": [
       "interactive(children=(IntSlider(value=101, description=u'myslice', max=202), Output()), _dom_classes=('widget-interact',))"
      ]
     },
     "metadata": {},
     "output_type": "display_data"
    }
   ],
   "source": [
    "#read dcm directory and compte ONE sitk 3D image object\n",
    "reader=sitk.ImageSeriesReader()\n",
    "#dicom_name=reader.GetGDCMSeriesFileNames('scanX/')\n",
    "dicom_name=reader.GetGDCMSeriesFileNames('/media/sf_CRCT/JupyterNotebook/data/CT/clinic/calmip_test/dicom/ct/')\n",
    "reader.SetFileNames(dicom_name)\n",
    "ct_image = reader.Execute()\n",
    "\n",
    "print ct_image.GetOrigin()\n",
    "print ct_image.GetDirection()\n",
    "dicom_ct_dimension=ct_image.GetSize()\n",
    "dicom_ct_pixel_size=ct_image.GetSpacing()\n",
    "print'Dimesions : ' , dicom_ct_dimension\n",
    "print'Pixels Size :' , dicom_ct_pixel_size\n",
    "\n",
    "pixel_array=sitk.GetArrayFromImage(ct_image)   #Get numpy n-d array from sitk object to plot it                          \n",
    "ct_viewer(pixel_array)"
   ]
  },
  {
   "cell_type": "code",
   "execution_count": 10,
   "metadata": {},
   "outputs": [],
   "source": [
    "# write raw original ct\n",
    "#pixel_array=pixel_array[::-1,::,:]\n",
    "#sitk.WriteImage(ct_image, study+'/images/'+study+'_original.mhd')\n",
    "sitk.WriteImage(ct_image, '/media/sf_CRCT/JupyterNotebook/data/CT/clinic/calmip_test//images/'+study+'_original.mhd')"
   ]
  },
  {
   "cell_type": "code",
   "execution_count": 12,
   "metadata": {},
   "outputs": [
    {
     "name": "stdout",
     "output_type": "stream",
     "text": [
      "ORIGINAL : \n"
     ]
    },
    {
     "data": {
      "application/vnd.jupyter.widget-view+json": {
       "model_id": "eaeb4e0c43eb4d3e9211a83217b1408e",
       "version_major": 2,
       "version_minor": 0
      },
      "text/html": [
       "<p>Failed to display Jupyter Widget of type <code>interactive</code>.</p>\n",
       "<p>\n",
       "  If you're reading this message in Jupyter Notebook or JupyterLab, it may mean\n",
       "  that the widgets JavaScript is still loading. If this message persists, it\n",
       "  likely means that the widgets JavaScript library is either not installed or\n",
       "  not enabled. See the <a href=\"https://ipywidgets.readthedocs.io/en/stable/user_install.html\">Jupyter\n",
       "  Widgets Documentation</a> for setup instructions.\n",
       "</p>\n",
       "<p>\n",
       "  If you're reading this message in another notebook frontend (for example, a static\n",
       "  rendering on GitHub or <a href=\"https://nbviewer.jupyter.org/\">NBViewer</a>),\n",
       "  it may mean that your frontend doesn't currently support widgets.\n",
       "</p>\n"
      ],
      "text/plain": [
       "interactive(children=(IntSlider(value=101, description=u'myslice', max=202), Output()), _dom_classes=('widget-interact',))"
      ]
     },
     "metadata": {},
     "output_type": "display_data"
    },
    {
     "name": "stdout",
     "output_type": "stream",
     "text": [
      "CROPPED :\n"
     ]
    },
    {
     "data": {
      "application/vnd.jupyter.widget-view+json": {
       "model_id": "a9a70d800a334c48aff7f3aea9cb6480",
       "version_major": 2,
       "version_minor": 0
      },
      "text/html": [
       "<p>Failed to display Jupyter Widget of type <code>interactive</code>.</p>\n",
       "<p>\n",
       "  If you're reading this message in Jupyter Notebook or JupyterLab, it may mean\n",
       "  that the widgets JavaScript is still loading. If this message persists, it\n",
       "  likely means that the widgets JavaScript library is either not installed or\n",
       "  not enabled. See the <a href=\"https://ipywidgets.readthedocs.io/en/stable/user_install.html\">Jupyter\n",
       "  Widgets Documentation</a> for setup instructions.\n",
       "</p>\n",
       "<p>\n",
       "  If you're reading this message in another notebook frontend (for example, a static\n",
       "  rendering on GitHub or <a href=\"https://nbviewer.jupyter.org/\">NBViewer</a>),\n",
       "  it may mean that your frontend doesn't currently support widgets.\n",
       "</p>\n"
      ],
      "text/plain": [
       "interactive(children=(IntSlider(value=101, description=u'myslice', max=202), Output()), _dom_classes=('widget-interact',))"
      ]
     },
     "metadata": {},
     "output_type": "display_data"
    }
   ],
   "source": [
    "#select apropriates value to crop scan \n",
    "#use sliders to view all the slice and refer to original ct\n",
    "x1=80  #   X axis lower value (on original ct)\n",
    "x2=430 #   X axis upper value (on original ct)\n",
    "y1=120 #   Y axis lower value (on original ct)\n",
    "y2=400 #   Y axis upper value (on original ct)\n",
    "pixel_array_crop=ct_crop(pixel_array, x1, x2, y1, y2);"
   ]
  },
  {
   "cell_type": "code",
   "execution_count": 14,
   "metadata": {},
   "outputs": [
    {
     "data": {
      "application/vnd.jupyter.widget-view+json": {
       "model_id": "d42f47c516a64347b7b71f5e7986fc0f",
       "version_major": 2,
       "version_minor": 0
      },
      "text/html": [
       "<p>Failed to display Jupyter Widget of type <code>interactive</code>.</p>\n",
       "<p>\n",
       "  If you're reading this message in Jupyter Notebook or JupyterLab, it may mean\n",
       "  that the widgets JavaScript is still loading. If this message persists, it\n",
       "  likely means that the widgets JavaScript library is either not installed or\n",
       "  not enabled. See the <a href=\"https://ipywidgets.readthedocs.io/en/stable/user_install.html\">Jupyter\n",
       "  Widgets Documentation</a> for setup instructions.\n",
       "</p>\n",
       "<p>\n",
       "  If you're reading this message in another notebook frontend (for example, a static\n",
       "  rendering on GitHub or <a href=\"https://nbviewer.jupyter.org/\">NBViewer</a>),\n",
       "  it may mean that your frontend doesn't currently support widgets.\n",
       "</p>\n"
      ],
      "text/plain": [
       "interactive(children=(IntSlider(value=101, description=u'myslice', max=202), Output()), _dom_classes=('widget-interact',))"
      ]
     },
     "metadata": {},
     "output_type": "display_data"
    },
    {
     "name": "stdout",
     "output_type": "stream",
     "text": [
      "(350, 280, 202)\n",
      "[-171.87504, 132.81256, 188.75]\n"
     ]
    }
   ],
   "source": [
    "ct_viewer(pixel_array_crop)\n",
    "\n",
    "ct_crop=sitk.GetImageFromArray(pixel_array_crop)\n",
    "\n",
    "print ct_crop.GetSize()\n",
    "\n",
    "crop_val=[x1, y1, 0]\n",
    "new_origin=[]\n",
    "\n",
    "for val1, cropval, space in zip(ct_image.GetOrigin(),crop_val , ct_image.GetSpacing()):\n",
    "    new_origin.append(val1+(cropval*space))\n",
    "\n",
    "#for gate simulation frame\n",
    "new_origin[1]=new_origin[1]*-1\n",
    "new_origin[2]=new_origin[2]*-1\n",
    "\n",
    "print(new_origin)\n",
    "\n",
    "ct_crop.SetOrigin(new_origin)\n",
    "ct_crop.SetSpacing(ct_image.GetSpacing())\n",
    "\n",
    "sitk.WriteImage(ct_crop, '/media/sf_CRCT/JupyterNotebook/data/CT/clinic/calmip_test/images/'+study+'.mhd')"
   ]
  }
 ],
 "metadata": {
  "kernelspec": {
   "display_name": "Python 2",
   "language": "python",
   "name": "python2"
  },
  "language_info": {
   "codemirror_mode": {
    "name": "ipython",
    "version": 2
   },
   "file_extension": ".py",
   "mimetype": "text/x-python",
   "name": "python",
   "nbconvert_exporter": "python",
   "pygments_lexer": "ipython2",
   "version": "2.7.12"
  }
 },
 "nbformat": 4,
 "nbformat_minor": 2
}
