{
 "cells": [
  {
   "cell_type": "markdown",
   "metadata": {},
   "source": [
    "# CT for GATE "
   ]
  },
  {
   "cell_type": "code",
   "execution_count": 3,
   "metadata": {},
   "outputs": [],
   "source": [
    "import os\n",
    "import SimpleITK as sitk\n",
    "import numpy as np\n",
    "import array\n",
    "\n",
    "import matplotlib.pyplot as plt\n",
    "%matplotlib inline\n",
    "\n",
    "from ipywidgets import interact"
   ]
  },
  {
   "cell_type": "code",
   "execution_count": 4,
   "metadata": {},
   "outputs": [],
   "source": [
    "def ct_viewer(im):\n",
    "    def plot_image(myslice):\n",
    "        plt.imshow(im[myslice], cmap=plt.cm.gray)\n",
    "    interact(plot_image, myslice=(0, im.shape[0]))\n",
    "    return; "
   ]
  },
  {
   "cell_type": "code",
   "execution_count": 5,
   "metadata": {},
   "outputs": [],
   "source": [
    "def ct_crop(pix, x1crop, x2cropt, y1crop, y2cropt):\n",
    "    print 'ORIGINAL : '\n",
    "    ct_viewer(pix)\n",
    "    x2crop=x2cropt-pix.shape[1]\n",
    "    y2crop=y2cropt-pix.shape[2]\n",
    "    pix_crop=pixel_array[:, x1crop:x2crop, y1crop:y2crop]\n",
    "    print 'CROPPED :'\n",
    "    ct_viewer(pix_crop)\n",
    "    return pix_crop;\n"
   ]
  },
  {
   "cell_type": "markdown",
   "metadata": {},
   "source": [
    "## read  dicom images"
   ]
  },
  {
   "cell_type": "code",
   "execution_count": 10,
   "metadata": {},
   "outputs": [
    {
     "name": "stdout",
     "output_type": "stream",
     "text": [
      "(-325.0, -325.0, -180.0)\n",
      "('Dimesions : ', (512, 512, 161))\n",
      "('Pixels Size :', (1.269531, 1.269531, 2.5))\n",
      "324.999936\n",
      "-324.999936\n",
      "-201.25\n"
     ]
    },
    {
     "data": {
      "application/vnd.jupyter.widget-view+json": {
       "model_id": "992ca4326a5f4169af32e7fad8c9445d",
       "version_major": 2,
       "version_minor": 0
      },
      "text/html": [
       "<p>Failed to display Jupyter Widget of type <code>interactive</code>.</p>\n",
       "<p>\n",
       "  If you're reading this message in Jupyter Notebook or JupyterLab, it may mean\n",
       "  that the widgets JavaScript is still loading. If this message persists, it\n",
       "  likely means that the widgets JavaScript library is either not installed or\n",
       "  not enabled. See the <a href=\"https://ipywidgets.readthedocs.io/en/stable/user_install.html\">Jupyter\n",
       "  Widgets Documentation</a> for setup instructions.\n",
       "</p>\n",
       "<p>\n",
       "  If you're reading this message in another notebook frontend (for example, a static\n",
       "  rendering on GitHub or <a href=\"https://nbviewer.jupyter.org/\">NBViewer</a>),\n",
       "  it may mean that your frontend doesn't currently support widgets.\n",
       "</p>\n"
      ],
      "text/plain": [
       "interactive(children=(IntSlider(value=80, description=u'myslice', max=161), Output()), _dom_classes=('widget-interact',))"
      ]
     },
     "metadata": {},
     "output_type": "display_data"
    }
   ],
   "source": [
    "#read dcm directory and compte ONE sitk 3D image object\n",
    "reader=sitk.ImageSeriesReader()\n",
    "#dicom_name=reader.GetGDCMSeriesFileNames('scanX/')\n",
    "dicom_name=reader.GetGDCMSeriesFileNames('CTscanElec')\n",
    "reader.SetFileNames(dicom_name)\n",
    "ct_image = reader.Execute()\n",
    "\n",
    "print(ct_image.GetOrigin())\n",
    "dicom_ct_dimension=ct_image.GetSize()\n",
    "dicom_ct_pixel_size=ct_image.GetSpacing()\n",
    "print('Dimesions : ' , dicom_ct_dimension)\n",
    "print('Pixels Size :' , dicom_ct_pixel_size)\n",
    "\n",
    "x0=0.5*dicom_ct_dimension[0]*dicom_ct_pixel_size[0]\n",
    "y0=-0.5*dicom_ct_dimension[1]*dicom_ct_pixel_size[1]\n",
    "z0=-0.5*dicom_ct_dimension[2]*dicom_ct_pixel_size[2]\n",
    "\n",
    "print x0\n",
    "print y0\n",
    "print z0\n",
    "\n",
    "pixel_array=sitk.GetArrayFromImage(ct_image)   #Get numpy n-d array from sitk object to plot it                          \n",
    "ct_viewer(pixel_array)"
   ]
  },
  {
   "cell_type": "markdown",
   "metadata": {},
   "source": [
    "## create raw image fom CT dicom"
   ]
  },
  {
   "cell_type": "code",
   "execution_count": null,
   "metadata": {},
   "outputs": [],
   "source": [
    "data = pixel_array.flatten()\n",
    "\n",
    "#Write Raw File \n",
    "filename = 'ct_patient_test'\n",
    "binfile = filename + '.raw'\n",
    "bitas = array.array('h', data)\n",
    "print binfile \n",
    "with open(binfile, 'wb') as file:\n",
    "    file.write(bitas)\n",
    "\n",
    "#Write mhd File\n",
    "mhdFile = filename + '.mhd'\n",
    "print mhdFile\n",
    "\n",
    "with open(mhdFile, 'wt') as file:\n",
    "    file.write('ObjectType = Image\\n')\n",
    "    file.write('NDims = ' + str(len(dicom_ct_dimension)) + '\\n')\n",
    "    file.write('BinaryData = True\\n')\n",
    "    file.write('BinaryDataByteOrderMSB = False\\n')\n",
    "    file.write('CompressedData = False\\n')\n",
    "    file.write('TransformMatrix = 1 0 0 0 1 0 0 0 1\\n')\n",
    "    file.write('Offset = 0 0 0\\n')\n",
    "    file.write('CenterOfRotation = 0 0 0\\n')\n",
    "    file.write('ElementSpacing = ' + str(dicom_ct_pixel_size[0]) +' '+ str(dicom_ct_pixel_size[1]) +' '+ str(dicom_ct_pixel_size[2]) +'\\n')\n",
    "    file.write('DimSize = ' + str(dicom_ct_dimension[0]) +' '+ str(dicom_ct_dimension[1]) +' '+ str(dicom_ct_dimension[2]) + '\\n')\n",
    "    file.write('ElementType = MET_SHORT\\n')\n",
    "    file.write('ElementDataFile = ' + binfile)\n"
   ]
  },
  {
   "cell_type": "markdown",
   "metadata": {},
   "source": [
    "## crop CT \n"
   ]
  },
  {
   "cell_type": "code",
   "execution_count": 6,
   "metadata": {},
   "outputs": [
    {
     "name": "stdout",
     "output_type": "stream",
     "text": [
      "ORIGINAL : \n"
     ]
    },
    {
     "data": {
      "application/vnd.jupyter.widget-view+json": {
       "model_id": "16d74566a28846748f45953377b7b2db",
       "version_major": 2,
       "version_minor": 0
      },
      "text/html": [
       "<p>Failed to display Jupyter Widget of type <code>interactive</code>.</p>\n",
       "<p>\n",
       "  If you're reading this message in Jupyter Notebook or JupyterLab, it may mean\n",
       "  that the widgets JavaScript is still loading. If this message persists, it\n",
       "  likely means that the widgets JavaScript library is either not installed or\n",
       "  not enabled. See the <a href=\"https://ipywidgets.readthedocs.io/en/stable/user_install.html\">Jupyter\n",
       "  Widgets Documentation</a> for setup instructions.\n",
       "</p>\n",
       "<p>\n",
       "  If you're reading this message in another notebook frontend (for example, a static\n",
       "  rendering on GitHub or <a href=\"https://nbviewer.jupyter.org/\">NBViewer</a>),\n",
       "  it may mean that your frontend doesn't currently support widgets.\n",
       "</p>\n"
      ],
      "text/plain": [
       "interactive(children=(IntSlider(value=89, description=u'myslice', max=178), Output()), _dom_classes=('widget-interact',))"
      ]
     },
     "metadata": {},
     "output_type": "display_data"
    },
    {
     "name": "stdout",
     "output_type": "stream",
     "text": [
      "CROPPED :\n"
     ]
    },
    {
     "data": {
      "application/vnd.jupyter.widget-view+json": {
       "model_id": "c9912d0456e94ac98ebc8265665b8f41",
       "version_major": 2,
       "version_minor": 0
      },
      "text/html": [
       "<p>Failed to display Jupyter Widget of type <code>interactive</code>.</p>\n",
       "<p>\n",
       "  If you're reading this message in Jupyter Notebook or JupyterLab, it may mean\n",
       "  that the widgets JavaScript is still loading. If this message persists, it\n",
       "  likely means that the widgets JavaScript library is either not installed or\n",
       "  not enabled. See the <a href=\"https://ipywidgets.readthedocs.io/en/stable/user_install.html\">Jupyter\n",
       "  Widgets Documentation</a> for setup instructions.\n",
       "</p>\n",
       "<p>\n",
       "  If you're reading this message in another notebook frontend (for example, a static\n",
       "  rendering on GitHub or <a href=\"https://nbviewer.jupyter.org/\">NBViewer</a>),\n",
       "  it may mean that your frontend doesn't currently support widgets.\n",
       "</p>\n"
      ],
      "text/plain": [
       "interactive(children=(IntSlider(value=89, description=u'myslice', max=178), Output()), _dom_classes=('widget-interact',))"
      ]
     },
     "metadata": {},
     "output_type": "display_data"
    }
   ],
   "source": [
    "#select apropriates value to crop scan \n",
    "#use sliders to view all the slice and refer to original ct\n",
    "\n",
    "\n",
    "y1=100 #   X axis lower value (on original ct)\n",
    "y2=370  #   X axis upper value (on original ct)\n",
    "x1=150  #   Y axis lower value (on original ct)\n",
    "x2=370  #   Y axis upper value (on original ct)\n",
    "\n",
    "\n",
    "pixel_array_crop=ct_crop(pixel_array, y1, y2, x1, x2);"
   ]
  },
  {
   "cell_type": "code",
   "execution_count": null,
   "metadata": {},
   "outputs": [],
   "source": [
    "print pixel_array_crop.shape\n",
    "a=pixel_array_crop.shape[2]*dicom_ct_pixel_size[0]/5\n",
    "b=pixel_array_crop.shape[1]*dicom_ct_pixel_size[1]/5\n",
    "c=pixel_array_crop.shape[0]*dicom_ct_pixel_size[2]/5\n",
    "print a, b, c"
   ]
  },
  {
   "cell_type": "markdown",
   "metadata": {},
   "source": [
    "## create raw image from cropped CT "
   ]
  },
  {
   "cell_type": "code",
   "execution_count": null,
   "metadata": {},
   "outputs": [],
   "source": [
    "data = pixel_array_crop.flatten()\n",
    "\n",
    "#Write Raw File \n",
    "filename_crop = 'ct_patient_test' + '_crop' \n",
    "binfile = filename_crop + '.raw'\n",
    "bitas = array.array('h', data)\n",
    "print binfile \n",
    "with open(binfile, 'wb') as file:\n",
    "    file.write(bitas)\n",
    "\n",
    "#Write mhd File\n",
    "mhdFile = filename_crop + '.mhd'\n",
    "print mhdFile\n",
    "\n",
    "with open(mhdFile, 'wt') as file:\n",
    "    file.write('ObjectType = Image\\n')\n",
    "    file.write('NDims = ' + str(len(dicom_ct_dimension)) + '\\n')\n",
    "    file.write('BinaryData = True\\n')\n",
    "    file.write('BinaryDataByteOrderMSB = False\\n')\n",
    "    file.write('CompressedData = False\\n')\n",
    "    file.write('TransformMatrix = 1 0 0 0 1 0 0 0 1\\n')\n",
    "    file.write('Offset = 0 0 0\\n')\n",
    "    file.write('CenterOfRotation = 0 0 0\\n')\n",
    "    file.write('ElementSpacing = ' + str(dicom_ct_pixel_size[0]) +' '+ str(dicom_ct_pixel_size[1]) +' '+ str(dicom_ct_pixel_size[2]) +'\\n')\n",
    "    file.write('DimSize = ' + str(pixel_array_crop.shape[2]) +' '+ str(pixel_array_crop.shape[1]) +' '+ str(pixel_array_crop.shape[0]) + '\\n')\n",
    "    file.write('ElementType = MET_SHORT\\n')\n",
    "    file.write('ElementDataFile = ' + binfile)\n"
   ]
  },
  {
   "cell_type": "markdown",
   "metadata": {},
   "source": [
    "## Isocenter position "
   ]
  },
  {
   "cell_type": "code",
   "execution_count": null,
   "metadata": {},
   "outputs": [],
   "source": [
    "#iso rt plan \n",
    "iso_rt_x = 1.245\n",
    "iso_rt_y = -138.337\n",
    "iso_rt_z = 2.5\n",
    "\n",
    "\n",
    "#calcul de la position de l'origine de ref du ct original dans le repére GATE (*-1 car rotation suivant l'axe x dans macro GATE)\n",
    "origin_img_0_x= (-0.5*dicom_ct_dimension[0]*dicom_ct_pixel_size[0])\n",
    "origin_img_0_y= (0.5*dicom_ct_dimension[1]*dicom_ct_pixel_size[1])\n",
    "origin_img_0_z= (0.5*dicom_ct_dimension[2]*dicom_ct_pixel_size[2])\n",
    "\n",
    "\n",
    "#calcul de la position de l'isocentre du ct original dans le repére ct a\n",
    "iso_a_x= iso_rt_x - origin_img_0_x\n",
    "iso_a_y= iso_rt_y - origin_img_0_y\n",
    "iso_a_z= iso_rt_z - origin_img_0_z\n",
    "\n",
    "\n",
    "# prise en compte de la rotation calcul du symetrique (vol center in ct a ref):\n",
    "vol_center_x=0.5*dicom_ct_dimension[0]*dicom_ct_pixel_size[0]\n",
    "vol_center_y=-0.5*dicom_ct_dimension[1]*dicom_ct_pixel_size[1]\n",
    "vol_center_z=-0.5*dicom_ct_dimension[2]*dicom_ct_pixel_size[2]  \n",
    "\n",
    "#calcul du symetrique\n",
    "x_iso=(2*vol_center_x)-iso_a_x\n",
    "y_iso=(2*vol_center_y)-iso_a_y\n",
    "z_iso=(2*vol_center_z)-iso_a_z\n",
    "\n",
    "\n",
    "print 'If native scan is used for GATE simulation use this value with /translateTheImageAtThisIsocenter :'\n",
    "print x_iso, y_iso, z_iso\n",
    "print\n",
    "print\n",
    "\n",
    "\n",
    "#for cropped scan\n",
    "\n",
    "#origin ref ct b\n",
    "origin_img_1_x=(x1)*dicom_ct_pixel_size[0]\n",
    "origin_img_1_y=(-y1)*dicom_ct_pixel_size[0]\n",
    "origin_img_1_z= origin_img_0_z               # car croppage en x et y \n",
    "\n",
    "x_iso_crop = x_iso - origin_img_1_x\n",
    "y_iso_crop = y_iso - origin_img_1_y\n",
    "z_iso_crop = z_iso\n",
    "print 'If CROP scan is used for GATE simulation use this value with /translateTheImageAtThisIsocenter :'\n",
    "print x_iso_crop, y_iso_crop, z_iso_crop"
   ]
  }
 ],
 "metadata": {
  "kernelspec": {
   "display_name": "Python 2",
   "language": "python",
   "name": "python2"
  },
  "language_info": {
   "codemirror_mode": {
    "name": "ipython",
    "version": 2
   },
   "file_extension": ".py",
   "mimetype": "text/x-python",
   "name": "python",
   "nbconvert_exporter": "python",
   "pygments_lexer": "ipython2",
   "version": "2.7.12"
  }
 },
 "nbformat": 4,
 "nbformat_minor": 2
}
