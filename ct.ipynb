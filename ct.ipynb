{
 "cells": [
  {
   "cell_type": "code",
   "execution_count": 2,
   "metadata": {},
   "outputs": [],
   "source": [
    "import dicom\n",
    "import os\n",
    "import array\n",
    "\n",
    "import matplotlib.pyplot as plt\n",
    "\n",
    "import numpy as np\n",
    "import SimpleITK as sitk\n",
    "from ipywidgets import interact\n",
    "%matplotlib inline\n",
    "\n"
   ]
  },
  {
   "cell_type": "code",
   "execution_count": 29,
   "metadata": {},
   "outputs": [],
   "source": [
    "study='IMART'\n",
    "rp=dicom.read_file('/home/gate/Documents/Phd/JupyterNotebook/data/CT/clinic/'+study+'/dicom/RP.201509643.STEC_LSD2_6ph1.dcm')"
   ]
  },
  {
   "cell_type": "code",
   "execution_count": 30,
   "metadata": {},
   "outputs": [
    {
     "name": "stdout",
     "output_type": "stream",
     "text": [
      "IMART\n",
      "[-64.903177054112, -49.623905929566, -15.0]\n"
     ]
    }
   ],
   "source": [
    "iso=[]\n",
    "for val in rp.BeamSequence[0].ControlPointSequence[0].IsocenterPosition: iso.append(float(val))\n",
    "study=str(str(rp.PatientName).split('^')[0])\n",
    "print(study)\n",
    "print(iso)\n"
   ]
  },
  {
   "cell_type": "code",
   "execution_count": 31,
   "metadata": {},
   "outputs": [],
   "source": [
    "def ct_viewer(im):\n",
    "    def plot_image(myslice):\n",
    "        plt.imshow(im[myslice], cmap=plt.cm.gray)\n",
    "    interact(plot_image, myslice=(0, im.shape[0]))\n",
    "    return; \n",
    "def ct_crop(pix, x1crop, x2cropt, y1crop, y2cropt):\n",
    "    print('ORIGINAL :')\n",
    "    ct_viewer(pix)\n",
    "    x2crop=x2cropt-pix.shape[2]\n",
    "    y2crop=y2cropt-pix.shape[1]\n",
    "    pix_crop=pixel_array[:, y1crop:y2crop, x1crop:x2crop]\n",
    "    print('CROPPED :')\n",
    "    ct_viewer(pix_crop)\n",
    "    return pix_crop;"
   ]
  },
  {
   "cell_type": "code",
   "execution_count": 32,
   "metadata": {},
   "outputs": [
    {
     "name": "stdout",
     "output_type": "stream",
     "text": [
      "(-250.0, -250.0, -200.0)\n",
      "(1.0, 0.0, 0.0, 0.0, 1.0, 0.0, 0.0, 0.0, 1.0)\n",
      "Dimesions :  (512, 512, 152)\n",
      "Pixels Size : (0.976562, 0.976562, 2.5)\n"
     ]
    },
    {
     "data": {
      "application/vnd.jupyter.widget-view+json": {
       "model_id": "576b4eee31824ecb8bf44002b0943565",
       "version_major": 2,
       "version_minor": 0
      },
      "text/plain": [
       "interactive(children=(IntSlider(value=76, description='myslice', max=152), Output()), _dom_classes=('widget-in…"
      ]
     },
     "metadata": {},
     "output_type": "display_data"
    }
   ],
   "source": [
    "#read dcm directory and compte ONE sitk 3D image object\n",
    "reader=sitk.ImageSeriesReader()\n",
    "#dicom_name=reader.GetGDCMSeriesFileNames('scanX/')\n",
    "dicom_name=reader.GetGDCMSeriesFileNames('/home/gate/Documents/Phd/JupyterNotebook/data/CT/clinic/'+study+'/dicom/ct/')\n",
    "reader.SetFileNames(dicom_name)\n",
    "ct_image = reader.Execute()\n",
    "\n",
    "print(ct_image.GetOrigin())\n",
    "print(ct_image.GetDirection())\n",
    "dicom_ct_dimension=ct_image.GetSize()\n",
    "dicom_ct_pixel_size=ct_image.GetSpacing()\n",
    "print('Dimesions : ' , dicom_ct_dimension)\n",
    "print('Pixels Size :' , dicom_ct_pixel_size)\n",
    "\n",
    "pixel_array=sitk.GetArrayFromImage(ct_image)   #Get numpy n-d array from sitk object to plot it                          \n",
    "ct_viewer(pixel_array)"
   ]
  },
  {
   "cell_type": "code",
   "execution_count": 33,
   "metadata": {},
   "outputs": [],
   "source": [
    "# write raw original ct\n",
    "#pixel_array=pixel_array[::-1,::,:]\n",
    "#sitk.WriteImage(ct_image, study+'/images/'+study+'_original.mhd')\n",
    "sitk.WriteImage(ct_image, '/home/gate/Documents/Phd/JupyterNotebook/data/CT/clinic/'+study+'/images/'+study+'_original.mhd')"
   ]
  },
  {
   "cell_type": "code",
   "execution_count": 48,
   "metadata": {},
   "outputs": [
    {
     "name": "stdout",
     "output_type": "stream",
     "text": [
      "ORIGINAL :\n"
     ]
    },
    {
     "data": {
      "application/vnd.jupyter.widget-view+json": {
       "model_id": "53b25c50bff147b5912aa1992fde6f40",
       "version_major": 2,
       "version_minor": 0
      },
      "text/plain": [
       "interactive(children=(IntSlider(value=76, description='myslice', max=152), Output()), _dom_classes=('widget-in…"
      ]
     },
     "metadata": {},
     "output_type": "display_data"
    },
    {
     "name": "stdout",
     "output_type": "stream",
     "text": [
      "CROPPED :\n"
     ]
    },
    {
     "data": {
      "application/vnd.jupyter.widget-view+json": {
       "model_id": "558ea193a1bd45e5ad0a665f2d3c6bb9",
       "version_major": 2,
       "version_minor": 0
      },
      "text/plain": [
       "interactive(children=(IntSlider(value=76, description='myslice', max=152), Output()), _dom_classes=('widget-in…"
      ]
     },
     "metadata": {},
     "output_type": "display_data"
    }
   ],
   "source": [
    "#select apropriates value to crop scan \n",
    "#use sliders to view all the slice and refer to original ct\n",
    "x1=55  #   X axis lower value (on original ct)\n",
    "x2=460 #   X axis upper value (on original ct)\n",
    "y1=105 #   Y axis lower value (on original ct)\n",
    "y2=400 #   Y axis upper value (on original ct)\n",
    "pixel_array_crop=ct_crop(pixel_array, x1, x2, y1, y2);"
   ]
  },
  {
   "cell_type": "code",
   "execution_count": 50,
   "metadata": {},
   "outputs": [
    {
     "data": {
      "application/vnd.jupyter.widget-view+json": {
       "model_id": "87294086dcbd4f939918e96c0851b533",
       "version_major": 2,
       "version_minor": 0
      },
      "text/plain": [
       "interactive(children=(IntSlider(value=76, description='myslice', max=152), Output()), _dom_classes=('widget-in…"
      ]
     },
     "metadata": {},
     "output_type": "display_data"
    },
    {
     "name": "stdout",
     "output_type": "stream",
     "text": [
      "(405, 295, 152)\n",
      "[-196.28909, 147.46098999999998, 200.0]\n"
     ]
    }
   ],
   "source": [
    "ct_viewer(pixel_array_crop)\n",
    "\n",
    "ct_crop=sitk.GetImageFromArray(pixel_array_crop)\n",
    "\n",
    "print(ct_crop.GetSize())\n",
    "\n",
    "crop_val=[x1, y1, 0]\n",
    "new_origin=[]\n",
    "\n",
    "for val1, cropval, space in zip(ct_image.GetOrigin(),crop_val , ct_image.GetSpacing()):\n",
    "    new_origin.append(val1+(cropval*space))\n",
    "\n",
    "#for gate simulation frame\n",
    "new_origin[1]=new_origin[1]*-1\n",
    "new_origin[2]=new_origin[2]*-1\n",
    "\n",
    "print(new_origin)\n",
    "\n",
    "ct_crop.SetOrigin(new_origin)\n",
    "ct_crop.SetSpacing(ct_image.GetSpacing())\n",
    "\n",
    "sitk.WriteImage(ct_crop, '/home/gate/Documents/Phd/JupyterNotebook/data/CT/clinic/'+study+'/images/'+study+'.mhd')"
   ]
  }
 ],
 "metadata": {
  "kernelspec": {
   "display_name": "Python 2",
   "language": "python",
   "name": "python2"
  },
  "language_info": {
   "codemirror_mode": {
    "name": "ipython",
    "version": 3
   },
   "file_extension": ".py",
   "mimetype": "text/x-python",
   "name": "python",
   "nbconvert_exporter": "python",
   "pygments_lexer": "ipython3",
   "version": "3.6.7"
  }
 },
 "nbformat": 4,
 "nbformat_minor": 2
}
