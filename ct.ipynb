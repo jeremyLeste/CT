{
 "cells": [
  {
   "cell_type": "code",
   "execution_count": 2,
   "metadata": {},
   "outputs": [],
   "source": [
    "import dicom\n",
    "import os\n",
    "import array\n",
    "\n",
    "import matplotlib.pyplot as plt\n",
    "\n",
    "import numpy as np\n",
    "import SimpleITK as sitk\n",
    "from ipywidgets import interact\n",
    "%matplotlib inline\n",
    "\n"
   ]
  },
  {
   "cell_type": "code",
   "execution_count": 7,
   "metadata": {},
   "outputs": [],
   "source": [
    "study='rita'\n",
    "#rp=dicom.read_file('/home/gate/Documents/phd/work/gateTrueBeamModel/tb/fullCreator/patient/GARCIA/dicom/RP.201706229.OrificeInfTTT.dcm')\n",
    "rp=dicom.read_file('/media/sf_Downloads/RP.201808212.RA_STECVerte3.dcm')"
   ]
  },
  {
   "cell_type": "code",
   "execution_count": 8,
   "metadata": {},
   "outputs": [
    {
     "name": "stdout",
     "output_type": "stream",
     "text": [
      "DAO\n",
      "[2.1303787e-14, 2.1303787e-14, 0.0]\n"
     ]
    }
   ],
   "source": [
    "iso=[]\n",
    "for val in rp.BeamSequence[0].ControlPointSequence[0].IsocenterPosition: iso.append(float(val))\n",
    "study=str(str(rp.PatientName).split('^')[0])\n",
    "print(study)\n",
    "print(iso)\n"
   ]
  },
  {
   "cell_type": "code",
   "execution_count": 9,
   "metadata": {},
   "outputs": [],
   "source": [
    "def ct_viewer(im):\n",
    "    def plot_image(myslice):\n",
    "        plt.imshow(im[myslice], cmap=plt.cm.gray)\n",
    "    interact(plot_image, myslice=(0, im.shape[0]))\n",
    "    return; \n",
    "def ct_crop(pix, x1crop, x2cropt, y1crop, y2cropt):\n",
    "    print('ORIGINAL :')\n",
    "    ct_viewer(pix)\n",
    "    x2crop=x2cropt-pix.shape[2]\n",
    "    y2crop=y2cropt-pix.shape[1]\n",
    "    pix_crop=pixel_array[:, y1crop:y2crop, x1crop:x2crop]\n",
    "    print('CROPPED :')\n",
    "    ct_viewer(pix_crop)\n",
    "    return pix_crop;"
   ]
  },
  {
   "cell_type": "code",
   "execution_count": 126,
   "metadata": {},
   "outputs": [
    {
     "name": "stdout",
     "output_type": "stream",
     "text": [
      "(-250.0, -250.0, -178.0)\n",
      "(1.0, 0.0, 0.0, 0.0, 1.0, 0.0, 0.0, 0.0, 1.0)\n",
      "Dimesions :  (512, 512, 137)\n",
      "Pixels Size : (0.976562, 0.976562, 2.5)\n"
     ]
    },
    {
     "data": {
      "application/vnd.jupyter.widget-view+json": {
       "model_id": "941d65a5a82148cd83e56a24e2334bfc",
       "version_major": 2,
       "version_minor": 0
      },
      "text/plain": [
       "interactive(children=(IntSlider(value=68, description='myslice', max=137), Output()), _dom_classes=('widget-in…"
      ]
     },
     "metadata": {},
     "output_type": "display_data"
    }
   ],
   "source": [
    "#read dcm directory and compte ONE sitk 3D image object\n",
    "reader=sitk.ImageSeriesReader()\n",
    "#dicom_name=reader.GetGDCMSeriesFileNames('scanX/')\n",
    "dicom_name=reader.GetGDCMSeriesFileNames('/home/gate/Documents/phd/work/gateTrueBeamModel/tb/fullCreator/patient/'+study+'/dicom/ct/')\n",
    "dicom_name=reader.GetGDCMSeriesFileNames('/media/sf_Downloads/CT_Flora')\n",
    "dicom_name=reader.GetGDCMSeriesFileNames('/home/gate/Documents/phd/work/qt/GateForTB/patient/NOUZILLE/ct')\n",
    "reader.SetFileNames(dicom_name)\n",
    "ct_image = reader.Execute()\n",
    "\n",
    "print(ct_image.GetOrigin())\n",
    "print(ct_image.GetDirection())\n",
    "dicom_ct_dimension=ct_image.GetSize()\n",
    "dicom_ct_pixel_size=ct_image.GetSpacing()\n",
    "print('Dimesions : ' , dicom_ct_dimension)\n",
    "print('Pixels Size :' , dicom_ct_pixel_size)\n",
    "\n",
    "pixel_array=sitk.GetArrayFromImage(ct_image)   #Get numpy n-d array from sitk object to plot it                          \n",
    "ct_viewer(pixel_array)"
   ]
  },
  {
   "cell_type": "code",
   "execution_count": 127,
   "metadata": {},
   "outputs": [
    {
     "name": "stdout",
     "output_type": "stream",
     "text": [
      "(137, 512, 512)\n",
      "(512, 512)\n"
     ]
    },
    {
     "data": {
      "text/plain": [
       "[<matplotlib.lines.Line2D at 0x7ffb0f55b6d8>]"
      ]
     },
     "execution_count": 127,
     "metadata": {},
     "output_type": "execute_result"
    },
    {
     "data": {
      "image/png": "[encoded data removed]",
      "text/plain": [
       "<Figure size 432x288 with 1 Axes>"
      ]
     },
     "metadata": {
      "needs_background": "light"
     },
     "output_type": "display_data"
    }
   ],
   "source": [
    "print(pixel_array.shape)\n",
    "temp_cum_array = np.zeros((pixel_array.shape[1], pixel_array.shape[2]))\n",
    "\n",
    "\n",
    "a= pixel_array.sum(axis=0)\n",
    "print(a.shape)\n",
    "\n",
    "x=a.sum(axis=0)\n",
    "y=a.sum(axis=1)\n",
    "plt.plot(x)\n",
    "plt.plot(y)\n",
    "#trace = go.Scatter(\n",
    "#    x=np.arange(pixel_array.shape[1]),\n",
    "#    y=energy)\n",
    "#data=[trace]\n",
    "#py.iplot(data, filename='energy spectrum')"
   ]
  },
  {
   "cell_type": "code",
   "execution_count": 128,
   "metadata": {},
   "outputs": [
    {
     "name": "stdout",
     "output_type": "stream",
     "text": [
      "70\n",
      "436\n",
      "117\n",
      "455\n"
     ]
    }
   ],
   "source": [
    "\n",
    "x=x-min(x)\n",
    "y=y-min(y)\n",
    "\n",
    "for i in range(int(pixel_array.shape[1]/2), 0, -1):\n",
    "    if x[i] < max(x)*0.12:\n",
    "        print(i)\n",
    "        x1auto=i\n",
    "        break      \n",
    "for i in range(int(pixel_array.shape[1]/2), int(pixel_array.shape[1]), 1):\n",
    "    if x[i] < max(x)*0.12:\n",
    "        print(i)\n",
    "        x2auto=i\n",
    "        break       \n",
    "for i in range(int(pixel_array.shape[2]/2), 0, -1):\n",
    "    if y[i] < max(y)*0.12:\n",
    "        print(i)\n",
    "        y1auto=i\n",
    "        break      \n",
    "for i in range(int(pixel_array.shape[2]/2), int(pixel_array.shape[2]), 1):\n",
    "    if y[i] < max(y)*0.12:\n",
    "        print(i)\n",
    "        y2auto=i\n",
    "        break"
   ]
  },
  {
   "cell_type": "code",
   "execution_count": 18,
   "metadata": {},
   "outputs": [],
   "source": [
    "# write raw original ct\n",
    "#pixel_array=pixel_array[::-1,::,:]\n",
    "#sitk.WriteImage(ct_image, study+'/images/'+study+'_original.mhd')\n",
    "#sitk.WriteImage(ct_image, '/home/gate/Documents/phd/work/gateTrueBeamModel/tb/fullCreator/patient/'+study+'/images/'+study+'_original.mhd')\n",
    "sitk.WriteImage(ct_image, '/media/sf_Downloads/'+study+'_original.mhd')"
   ]
  },
  {
   "cell_type": "code",
   "execution_count": 129,
   "metadata": {},
   "outputs": [
    {
     "name": "stdout",
     "output_type": "stream",
     "text": [
      "ORIGINAL :\n"
     ]
    },
    {
     "data": {
      "application/vnd.jupyter.widget-view+json": {
       "model_id": "f26429c22d5044c3a009413500435b99",
       "version_major": 2,
       "version_minor": 0
      },
      "text/plain": [
       "interactive(children=(IntSlider(value=68, description='myslice', max=137), Output()), _dom_classes=('widget-in…"
      ]
     },
     "metadata": {},
     "output_type": "display_data"
    },
    {
     "name": "stdout",
     "output_type": "stream",
     "text": [
      "CROPPED :\n"
     ]
    },
    {
     "data": {
      "application/vnd.jupyter.widget-view+json": {
       "model_id": "65a1651c2be5419b86597cee7f811ba3",
       "version_major": 2,
       "version_minor": 0
      },
      "text/plain": [
       "interactive(children=(IntSlider(value=68, description='myslice', max=137), Output()), _dom_classes=('widget-in…"
      ]
     },
     "metadata": {},
     "output_type": "display_data"
    }
   ],
   "source": [
    "#select apropriates value to crop scan \n",
    "#use sliders to view all the slice and refer to original ct\n",
    "x1=x1auto  #   X axis lower value (on original ct)\n",
    "x2=x2auto #   X axis upper value (on original ct)\n",
    "y1=y1auto #   Y axis lower value (on original ct)\n",
    "y2=y2auto #   Y axis upper value (on original ct)\n",
    "pixel_array_crop=ct_crop(pixel_array, x1, x2, y1, y2);"
   ]
  },
  {
   "cell_type": "code",
   "execution_count": 23,
   "metadata": {},
   "outputs": [
    {
     "data": {
      "application/vnd.jupyter.widget-view+json": {
       "model_id": "fcbca498da4048b1a2b0aa6219d47431",
       "version_major": 2,
       "version_minor": 0
      },
      "text/plain": [
       "interactive(children=(IntSlider(value=43, description='myslice', max=86), Output()), _dom_classes=('widget-int…"
      ]
     },
     "metadata": {},
     "output_type": "display_data"
    },
    {
     "name": "stdout",
     "output_type": "stream",
     "text": [
      "(220, 371, 86)\n",
      "[-103.51569999999998, 113.28132, 127.5]\n"
     ]
    }
   ],
   "source": [
    "ct_viewer(pixel_array_crop)\n",
    "\n",
    "ct_crop=sitk.GetImageFromArray(pixel_array_crop)\n",
    "\n",
    "print(ct_crop.GetSize())\n",
    "\n",
    "crop_val=[x1, y1, 0]\n",
    "new_origin=[]\n",
    "\n",
    "for val1, cropval, space in zip(ct_image.GetOrigin(),crop_val , ct_image.GetSpacing()):\n",
    "    new_origin.append(val1+(cropval*space))\n",
    "\n",
    "#for gate simulation frame\n",
    "new_origin[1]=new_origin[1]*-1\n",
    "new_origin[2]=new_origin[2]*-1\n",
    "\n",
    "print(new_origin)\n",
    "\n",
    "ct_crop.SetOrigin(new_origin)\n",
    "ct_crop.SetSpacing(ct_image.GetSpacing())\n",
    "\n",
    "#sitk.WriteImage(ct_crop, '/home/gate/Documents/phd/work/gateTrueBeamModel/tb/fullCreator/patient/'+study+'/images/'+study+'.mhd')\n",
    "sitk.WriteImage(ct_crop, '/media/sf_Downloads/'+study+'.mhd')"
   ]
  }
 ],
 "metadata": {
  "kernelspec": {
   "display_name": "Python 3",
   "language": "python",
   "name": "python3"
  },
  "language_info": {
   "codemirror_mode": {
    "name": "ipython",
    "version": 3
   },
   "file_extension": ".py",
   "mimetype": "text/x-python",
   "name": "python",
   "nbconvert_exporter": "python",
   "pygments_lexer": "ipython3",
   "version": "3.6.9"
  }
 },
 "nbformat": 4,
 "nbformat_minor": 2
}
